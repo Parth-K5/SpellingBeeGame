{
 "cells": [
  {
   "cell_type": "code",
   "execution_count": 18,
   "metadata": {},
   "outputs": [
    {
     "data": {
      "text/plain": [
       "True"
      ]
     },
     "execution_count": 18,
     "metadata": {},
     "output_type": "execute_result"
    }
   ],
   "source": [
    "import requests\n",
    "\n",
    "\n",
    "r = requests.get(\"https://raw.githubusercontent.com/psf/requests/main/setup.cfg\")\n",
    "\n",
    "r.text\n",
    "\n",
    "def check_update():\n",
    "    r = requests.get(\"https://raw.githubusercontent.com/parthk5/SpellingBeeGame/main/version.txt\")\n",
    "    latest = int(r.text.replace(\".\", \"\"))\n",
    "\n",
    "    with open(\"version.txt\", 'r') as verFile:\n",
    "        currVer = int(verFile.read().replace(\".\", \"\"))\n",
    "\n",
    "    #print(f\"Latest: {latest}\")\n",
    "    #print(f\"Current: {currVer}\")\n",
    "\n",
    "    return latest > currVer\n",
    "\n",
    "check_update()\n",
    "\n"
   ]
  },
  {
   "cell_type": "code",
   "execution_count": 14,
   "metadata": {},
   "outputs": [
    {
     "name": "stdout",
     "output_type": "stream",
     "text": [
      "False\n"
     ]
    }
   ],
   "source": [
    "print(a)"
   ]
  }
 ],
 "metadata": {
  "kernelspec": {
   "display_name": "Python 3",
   "language": "python",
   "name": "python3"
  },
  "language_info": {
   "codemirror_mode": {
    "name": "ipython",
    "version": 3
   },
   "file_extension": ".py",
   "mimetype": "text/x-python",
   "name": "python",
   "nbconvert_exporter": "python",
   "pygments_lexer": "ipython3",
   "version": "3.12.1"
  }
 },
 "nbformat": 4,
 "nbformat_minor": 2
}
